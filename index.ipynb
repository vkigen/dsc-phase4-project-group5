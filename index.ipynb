{
 "cells": [
  {
   "cell_type": "markdown",
   "metadata": {},
   "source": [
    "## Business Understanding\n",
    "### Problem Statement\n",
    "Matching job seekers with relevant job opportunities is crucial for both candidates and employers. However, traditional keyword-based search systems lack the intelligence to align jobs with an individual's holistic profile—skills, experience, and preferences—leading to inefficiencies.\n",
    "#### Objective\n",
    "Develop an intelligent NLP-based job recommendation system that uses the job description dataset to recommend suitable roles for applicants based on:\n",
    "Their skills, qualifications, and experience. Job descriptions, required skills, and responsibilities.\n",
    "#### Key Stakeholders\n",
    "Applicants: Need personalized recommendations to find jobs aligned with their skillset and career goals. Employers: Want efficient shortlisting of relevant candidates. Recruitment Platforms: Seek to enhance user engagement and improve match accuracy.\n",
    "#### Goals\n",
    "For Job Seekers: Deliver precise job recommendations tailored to their profiles. Save time by reducing the need for extensive manual searches.\n",
    "For Employers: Improve applicant-job alignment, reducing hiring timelines.\n",
    "For the Platform: Enhance user satisfaction and retention through advanced recommendations.\n",
    "\n",
    "The project aims to analyze job descriptions to identify patterns in required skills, qualifications, and experience across industries and roles. It will map competencies to specific job titles using techniques like skill extraction and clustering. Recommendations will consider various factors, including geographical preferences, salary expectations, and work type, to create a comprehensive match.\n",
    "To measure success, metrics like recommendation accuracy, user engagement, and system performance will be tracked. The next steps involve exploring the dataset further, defining applicant features, and designing the recommendation model, potentially leveraging collaborative filtering and content-based approaches.\n",
    "#### System Functionality Overview\n",
    "The job recommendation system will allow users to input their skills, work experience, job title, employment duration, and job description. Using NLP, the system will analyze this information to extract key skills and industry-specific terms, matching the user's profile against job descriptions in the dataset.\n",
    "Recommendations will be tailored based on factors like required skills, experience, location, work type, and salary, ensuring a personalized and relevant list of job opportunities. This approach streamlines the job search process, helping users identify roles aligned with their expertise and career goals."
   ]
  },
  {
   "cell_type": "code",
   "execution_count": 7,
   "metadata": {},
   "outputs": [],
   "source": [
    "#Importing libraries\n",
    "import pandas as pd\n",
    "import numpy as np"
   ]
  },
  {
   "cell_type": "code",
   "execution_count": 9,
   "metadata": {},
   "outputs": [],
   "source": [
    "#Loading the dataset\n",
    "df = pd.read_csv('data/job_descriptions.csv', low_memory=False)"
   ]
  },
  {
   "cell_type": "code",
   "execution_count": 10,
   "metadata": {},
   "outputs": [],
   "source": [
    "def understand_data(data):\n",
    "    # Print the summary information of the dataset including data types and non-null counts\n",
    "    print(\"\\nDataset Information:\")\n",
    "    data.info()\n",
    "    # Print the first 5 rows of the dataset to give a preview of the data\n",
    "    print(\"\\nSample Data:\")\n",
    "    print(data.head())"
   ]
  },
  {
   "cell_type": "code",
   "execution_count": 12,
   "metadata": {},
   "outputs": [
    {
     "name": "stdout",
     "output_type": "stream",
     "text": [
      "\n",
      "Dataset Information:\n",
      "<class 'pandas.core.frame.DataFrame'>\n",
      "RangeIndex: 1615940 entries, 0 to 1615939\n",
      "Data columns (total 23 columns):\n",
      " #   Column            Non-Null Count    Dtype  \n",
      "---  ------            --------------    -----  \n",
      " 0   Job Id            1615940 non-null  int64  \n",
      " 1   Experience        1615940 non-null  object \n",
      " 2   Qualifications    1615940 non-null  object \n",
      " 3   Salary Range      1615940 non-null  object \n",
      " 4   location          1615940 non-null  object \n",
      " 5   Country           1615940 non-null  object \n",
      " 6   latitude          1615940 non-null  float64\n",
      " 7   longitude         1615940 non-null  float64\n",
      " 8   Work Type         1615940 non-null  object \n",
      " 9   Company Size      1615940 non-null  int64  \n",
      " 10  Job Posting Date  1615940 non-null  object \n",
      " 11  Preference        1615940 non-null  object \n",
      " 12  Contact Person    1615940 non-null  object \n",
      " 13  Contact           1615940 non-null  object \n",
      " 14  Job Title         1615940 non-null  object \n",
      " 15  Role              1615940 non-null  object \n",
      " 16  Job Portal        1615940 non-null  object \n",
      " 17  Job Description   1615940 non-null  object \n",
      " 18  Benefits          1615940 non-null  object \n",
      " 19  skills            1615940 non-null  object \n",
      " 20  Responsibilities  1615940 non-null  object \n",
      " 21  Company           1615940 non-null  object \n",
      " 22  Company Profile   1610462 non-null  object \n",
      "dtypes: float64(2), int64(2), object(19)\n",
      "memory usage: 283.6+ MB\n",
      "\n",
      "Sample Data:\n",
      "             Job Id     Experience Qualifications Salary Range    location  \\\n",
      "0  1089843540111562  5 to 15 Years         M.Tech    $59K-$99K     Douglas   \n",
      "1   398454096642776  2 to 12 Years            BCA   $56K-$116K    Ashgabat   \n",
      "2   481640072963533  0 to 12 Years            PhD   $61K-$104K       Macao   \n",
      "3   688192671473044  4 to 11 Years            PhD    $65K-$91K  Porto-Novo   \n",
      "4   117057806156508  1 to 12 Years            MBA    $64K-$87K    Santiago   \n",
      "\n",
      "            Country  latitude  longitude  Work Type  Company Size  ...  \\\n",
      "0       Isle of Man   54.2361    -4.5481     Intern         26801  ...   \n",
      "1      Turkmenistan   38.9697    59.5563     Intern        100340  ...   \n",
      "2  Macao SAR, China   22.1987   113.5439  Temporary         84525  ...   \n",
      "3             Benin    9.3077     2.3158  Full-Time        129896  ...   \n",
      "4             Chile  -35.6751   -71.5429     Intern         53944  ...   \n",
      "\n",
      "                 Contact                     Job Title  \\\n",
      "0   001-381-930-7517x737  Digital Marketing Specialist   \n",
      "1           461-509-4216                 Web Developer   \n",
      "2             9687619505            Operations Manager   \n",
      "3  +1-820-643-5431x47576              Network Engineer   \n",
      "4      343.975.4702x9340                 Event Manager   \n",
      "\n",
      "                        Role    Job Portal  \\\n",
      "0       Social Media Manager      Snagajob   \n",
      "1     Frontend Web Developer      Idealist   \n",
      "2    Quality Control Manager  Jobs2Careers   \n",
      "3  Wireless Network Engineer      FlexJobs   \n",
      "4         Conference Manager  Jobs2Careers   \n",
      "\n",
      "                                     Job Description  \\\n",
      "0  Social Media Managers oversee an organizations...   \n",
      "1  Frontend Web Developers design and implement u...   \n",
      "2  Quality Control Managers establish and enforce...   \n",
      "3  Wireless Network Engineers design, implement, ...   \n",
      "4  A Conference Manager coordinates and manages c...   \n",
      "\n",
      "                                            Benefits  \\\n",
      "0  {'Flexible Spending Accounts (FSAs), Relocatio...   \n",
      "1  {'Health Insurance, Retirement Plans, Paid Tim...   \n",
      "2  {'Legal Assistance, Bonuses and Incentive Prog...   \n",
      "3  {'Transportation Benefits, Professional Develo...   \n",
      "4  {'Flexible Spending Accounts (FSAs), Relocatio...   \n",
      "\n",
      "                                              skills  \\\n",
      "0  Social media platforms (e.g., Facebook, Twitte...   \n",
      "1  HTML, CSS, JavaScript Frontend frameworks (e.g...   \n",
      "2  Quality control processes and methodologies St...   \n",
      "3  Wireless network design and architecture Wi-Fi...   \n",
      "4  Event planning Conference logistics Budget man...   \n",
      "\n",
      "                                    Responsibilities  \\\n",
      "0  Manage and grow social media accounts, create ...   \n",
      "1  Design and code user interfaces for websites, ...   \n",
      "2  Establish and enforce quality control standard...   \n",
      "3  Design, configure, and optimize wireless netwo...   \n",
      "4  Specialize in conference and convention planni...   \n",
      "\n",
      "                            Company  \\\n",
      "0                 Icahn Enterprises   \n",
      "1      PNC Financial Services Group   \n",
      "2  United Services Automobile Assn.   \n",
      "3                              Hess   \n",
      "4                      Cairn Energy   \n",
      "\n",
      "                                     Company Profile  \n",
      "0  {\"Sector\":\"Diversified\",\"Industry\":\"Diversifie...  \n",
      "1  {\"Sector\":\"Financial Services\",\"Industry\":\"Com...  \n",
      "2  {\"Sector\":\"Insurance\",\"Industry\":\"Insurance: P...  \n",
      "3  {\"Sector\":\"Energy\",\"Industry\":\"Mining, Crude-O...  \n",
      "4  {\"Sector\":\"Energy\",\"Industry\":\"Energy - Oil & ...  \n",
      "\n",
      "[5 rows x 23 columns]\n"
     ]
    }
   ],
   "source": [
    "understand_data(df)"
   ]
  },
  {
   "cell_type": "code",
   "execution_count": 11,
   "metadata": {},
   "outputs": [],
   "source": [
    "# Keep only the first 50,000 rows\n",
    "df_first_100k = df.head(50000)\n",
    "\n",
    "# Optionally, save the new dataset to a new CSV file\n",
    "df_first_100k.to_csv('data/dataset_first_50k.csv', index=False)"
   ]
  },
  {
   "cell_type": "code",
   "execution_count": null,
   "metadata": {},
   "outputs": [],
   "source": []
  }
 ],
 "metadata": {
  "kernelspec": {
   "display_name": "Python 3",
   "language": "python",
   "name": "python3"
  },
  "language_info": {
   "codemirror_mode": {
    "name": "ipython",
    "version": 3
   },
   "file_extension": ".py",
   "mimetype": "text/x-python",
   "name": "python",
   "nbconvert_exporter": "python",
   "pygments_lexer": "ipython3",
   "version": "3.8.5"
  }
 },
 "nbformat": 4,
 "nbformat_minor": 2
}
